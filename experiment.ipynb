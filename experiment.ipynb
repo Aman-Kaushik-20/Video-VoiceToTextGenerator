{
 "cells": [
  {
   "cell_type": "code",
   "execution_count": 76,
   "metadata": {},
   "outputs": [],
   "source": [
    "import speech_recognition as sr\n",
    "from moviepy.editor import VideoFileClip\n",
    "from pydub import AudioSegment\n",
    "import openai\n",
    "import os\n"
   ]
  },
  {
   "cell_type": "code",
   "execution_count": 23,
   "metadata": {},
   "outputs": [],
   "source": [
    "recognizer = sr.Recognizer()"
   ]
  },
  {
   "cell_type": "code",
   "execution_count": 24,
   "metadata": {},
   "outputs": [],
   "source": [
    "def video_to_audio(video_path):\n",
    "        video = VideoFileClip(video_path)\n",
    "        audio_path = video_path.rsplit('.', 1)[0] + \".wav\"\n",
    "        video.audio.write_audiofile(audio_path)\n",
    "        return audio_path"
   ]
  },
  {
   "cell_type": "code",
   "execution_count": 48,
   "metadata": {},
   "outputs": [],
   "source": [
    "def recognize_speech_from_audio(audio_path):\n",
    "     audio = AudioSegment.from_file(audio_path)\n",
    "     audio.export(audio_path, format=\"wav\")\n",
    "     with sr.AudioFile(audio_path) as source:\n",
    "         audio_data = recognizer.record(source)\n",
    "         text = recognizer.recognize_google(audio_data)\n",
    "     return text\n"
   ]
  },
  {
   "cell_type": "code",
   "execution_count": 49,
   "metadata": {},
   "outputs": [],
   "source": [
    "file_path= r\"D:\\Text and video summarizer\\audio_video_file\\WhatsApp-Audio-2024-07-16-at-14.21.45_237037ed.waptt.wav\""
   ]
  },
  {
   "cell_type": "code",
   "execution_count": 50,
   "metadata": {},
   "outputs": [
    {
     "data": {
      "text/plain": [
       "'this is an example audio file which tells you about the roadmap to learn find tuning of large language models step 1 basics of machine learning step to introduction to LMS step 3'"
      ]
     },
     "execution_count": 50,
     "metadata": {},
     "output_type": "execute_result"
    }
   ],
   "source": [
    "recognize_speech_from_audio(file_path)"
   ]
  },
  {
   "cell_type": "code",
   "execution_count": 52,
   "metadata": {},
   "outputs": [],
   "source": [
    "video_path = r\"D:\\Text and video summarizer\\audio_video_file\\Y2meta.app-Inflation Explained in One Minute-(720p).mp4\""
   ]
  },
  {
   "cell_type": "code",
   "execution_count": 53,
   "metadata": {},
   "outputs": [
    {
     "name": "stdout",
     "output_type": "stream",
     "text": [
      "MoviePy - Writing audio in D:\\Text and video summarizer\\audio_video_file\\Y2meta.app-Inflation Explained in One Minute-(720p).wav\n"
     ]
    },
    {
     "name": "stderr",
     "output_type": "stream",
     "text": [
      "                                                                      "
     ]
    },
    {
     "name": "stdout",
     "output_type": "stream",
     "text": [
      "MoviePy - Done.\n"
     ]
    },
    {
     "name": "stderr",
     "output_type": "stream",
     "text": [
      "\r"
     ]
    }
   ],
   "source": [
    "path_audio = video_to_audio(video_path)"
   ]
  },
  {
   "cell_type": "code",
   "execution_count": 54,
   "metadata": {},
   "outputs": [
    {
     "data": {
      "text/plain": [
       "\"what's the song your monthly income more than double congratulations you can now for the most powerful by two times more stuff but what if the monthly income of everyone else would also doubled in that case you don't want to be able to buy two times more stuff because since everyone else also earns two times more there would be two times more money chasing roughly the same number of girls making two times more money is not enough to keep up with everyone else three times the price of goods and services tax percentage\""
      ]
     },
     "execution_count": 54,
     "metadata": {},
     "output_type": "execute_result"
    }
   ],
   "source": [
    "recognize_speech_from_audio(path_audio)"
   ]
  },
  {
   "cell_type": "code",
   "execution_count": 74,
   "metadata": {},
   "outputs": [],
   "source": [
    "KEY = os.getenv('OPENAI_API_KEY')"
   ]
  },
  {
   "cell_type": "code",
   "execution_count": 57,
   "metadata": {},
   "outputs": [],
   "source": [
    "text = \"what's the song your monthly income more than double congratulations you can now for the most powerful by two times more stuff but what if the monthly income of everyone else would also doubled in that case you don't want to be able to buy two times more stuff because since everyone else also earns two times more there would be two times more money chasing roughly the same number of girls making two times more money is not enough to keep up with everyone else three times the price of goods and services tax percentage\""
   ]
  },
  {
   "cell_type": "code",
   "execution_count": 63,
   "metadata": {},
   "outputs": [],
   "source": [
    "from langchain.chat_models import ChatOpenAI\n",
    "from langchain.prompts import PromptTemplate\n",
    "from langchain.chat_models import ChatOpenAI"
   ]
  },
  {
   "cell_type": "code",
   "execution_count": 64,
   "metadata": {},
   "outputs": [],
   "source": [
    "TEMPLATE=\"\"\"\n",
    "You are a Helpful Assistant. Summarize the text given below.\n",
    "input_text: {input_text}\n",
    "Only return the helpful answer below and nothing else.\n",
    "Helpful answer:\n",
    "\"\"\"\n",
    "\n",
    "from langchain.chains import LLMChain\n",
    "\n",
    "medical_help_prompt = PromptTemplate(\n",
    "      input_variables=[\"input_text\"],\n",
    "      template=TEMPLATE\n",
    ")"
   ]
  },
  {
   "cell_type": "code",
   "execution_count": 67,
   "metadata": {},
   "outputs": [],
   "source": [
    "llm=ChatOpenAI(openai_api_key\n",
    "               =KEY,model_name=\"gpt-3.5-turbo\", temperature=0.5)"
   ]
  },
  {
   "cell_type": "code",
   "execution_count": 68,
   "metadata": {},
   "outputs": [],
   "source": [
    "from langchain.llms import OpenAI\n",
    "from langchain.callbacks import get_openai_callback\n",
    "\n",
    "quiz_chain=LLMChain(llm=llm, prompt=medical_help_prompt, output_key='answer', verbose=True)"
   ]
  },
  {
   "cell_type": "code",
   "execution_count": 69,
   "metadata": {},
   "outputs": [],
   "source": [
    "def summarize_text(text):\n",
    "     final_result = quiz_chain.run(\n",
    "     {\n",
    "         \"input_text\":text\n",
    "     }\n",
    "     )\n",
    "     return final_result"
   ]
  },
  {
   "cell_type": "code",
   "execution_count": 70,
   "metadata": {},
   "outputs": [
    {
     "name": "stdout",
     "output_type": "stream",
     "text": [
      "\n",
      "\n",
      "\u001b[1m> Entering new LLMChain chain...\u001b[0m\n",
      "Prompt after formatting:\n",
      "\u001b[32;1m\u001b[1;3m\n",
      "You are a Helpful Assistant. Summarize the text given below.\n",
      "input_text: what's the song your monthly income more than double congratulations you can now for the most powerful by two times more stuff but what if the monthly income of everyone else would also doubled in that case you don't want to be able to buy two times more stuff because since everyone else also earns two times more there would be two times more money chasing roughly the same number of girls making two times more money is not enough to keep up with everyone else three times the price of goods and services tax percentage\n",
      "Only return the helpful answer below and nothing else.\n",
      "Helpful answer:\n",
      "\u001b[0m\n",
      "\n",
      "\u001b[1m> Finished chain.\u001b[0m\n"
     ]
    },
    {
     "data": {
      "text/plain": [
       "\"The text discusses the impact of doubling monthly income on purchasing power, but notes that if everyone's income doubled, prices would also increase, making it harder to keep up with others.\""
      ]
     },
     "execution_count": 70,
     "metadata": {},
     "output_type": "execute_result"
    }
   ],
   "source": [
    "summarize_text(text)"
   ]
  },
  {
   "cell_type": "code",
   "execution_count": 71,
   "metadata": {},
   "outputs": [],
   "source": [
    "def summarize(file_path):\n",
    "     temp_dir = \"temp\"\n",
    "     os.makedirs(temp_dir, exist_ok=True)\n",
    "\n",
    "     try:\n",
    "         if file_path.endswith((\".mp4\", \".mkv\", \".avi\")):\n",
    "             audio_path = video_to_audio(file_path)\n",
    "         elif file_path.endswith((\".wav\", \".m4a\")):\n",
    "             audio_path = file_path\n",
    "         else:\n",
    "             raise ValueError(\"Unsupported file type\")\n",
    "\n",
    "         text = recognize_speech_from_audio(audio_path)\n",
    "         summary = summarize_text(text)\n",
    "         return {\"original_text\": text, \"summary\": summary}\n",
    "     except Exception as e:\n",
    "         return {\"error\": str(e)}"
   ]
  },
  {
   "cell_type": "code",
   "execution_count": 72,
   "metadata": {},
   "outputs": [],
   "source": [
    "new_video_file_path= r\"D:\\Text and video summarizer\\audio_video_file\\WhatsApp-Audio-2024-07-16-at-14.21.45_237037ed.waptt.wav\""
   ]
  },
  {
   "cell_type": "code",
   "execution_count": 73,
   "metadata": {},
   "outputs": [
    {
     "name": "stdout",
     "output_type": "stream",
     "text": [
      "\n",
      "\n",
      "\u001b[1m> Entering new LLMChain chain...\u001b[0m\n",
      "Prompt after formatting:\n",
      "\u001b[32;1m\u001b[1;3m\n",
      "You are a Helpful Assistant. Summarize the text given below.\n",
      "input_text: this is an example audio file which tells you about the roadmap to learn find tuning of large language models step 1 basics of machine learning step to introduction to LMS step 3\n",
      "Only return the helpful answer below and nothing else.\n",
      "Helpful answer:\n",
      "\u001b[0m\n",
      "\n",
      "\u001b[1m> Finished chain.\u001b[0m\n"
     ]
    },
    {
     "data": {
      "text/plain": [
       "{'original_text': 'this is an example audio file which tells you about the roadmap to learn find tuning of large language models step 1 basics of machine learning step to introduction to LMS step 3',\n",
       " 'summary': 'The audio file provides a roadmap for learning fine-tuning of large language models, starting with basics of machine learning, followed by an introduction to LMS.'}"
      ]
     },
     "execution_count": 73,
     "metadata": {},
     "output_type": "execute_result"
    }
   ],
   "source": [
    "summarize(new_video_file_path)"
   ]
  },
  {
   "cell_type": "code",
   "execution_count": null,
   "metadata": {},
   "outputs": [],
   "source": []
  }
 ],
 "metadata": {
  "kernelspec": {
   "display_name": "venv",
   "language": "python",
   "name": "python3"
  },
  "language_info": {
   "codemirror_mode": {
    "name": "ipython",
    "version": 3
   },
   "file_extension": ".py",
   "mimetype": "text/x-python",
   "name": "python",
   "nbconvert_exporter": "python",
   "pygments_lexer": "ipython3",
   "version": "3.10.7"
  }
 },
 "nbformat": 4,
 "nbformat_minor": 2
}
